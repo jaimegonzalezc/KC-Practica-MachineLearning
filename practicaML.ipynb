{
  "nbformat": 4,
  "nbformat_minor": 0,
  "metadata": {
    "colab": {
      "provenance": [],
      "authorship_tag": "ABX9TyPsYJbjee907EuU3RLqauRV"
    },
    "kernelspec": {
      "name": "python3",
      "display_name": "Python 3"
    },
    "language_info": {
      "name": "python"
    }
  },
  "cells": [
    {
      "cell_type": "code",
      "execution_count": null,
      "metadata": {
        "id": "rNyViOy-eTa9"
      },
      "outputs": [],
      "source": [
        "import numpy  as np\n",
        "import pandas as pd\n",
        "\n",
        "import matplotlib.pyplot as plt\n",
        "%matplotlib inline"
      ]
    },
    {
      "cell_type": "code",
      "source": [
        "house_data = pd.read_csv(\"./data/king_county.csv\") # cargamos fichero\n",
        "print(house_data.shape)\n",
        "house_data.head(5).T                                 # visualizamos 5 primeras filas"
      ],
      "metadata": {
        "id": "yb294HHLezRq"
      },
      "execution_count": null,
      "outputs": []
    }
  ]
}